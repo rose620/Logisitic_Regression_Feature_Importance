{
 "cells": [
  {
   "cell_type": "markdown",
   "id": "d3d001b0-2e2f-4b58-8442-99520bad831f",
   "metadata": {},
   "source": [
    "# Sowing Success: How Machine Learning Helps Farmers Select the Best Crops\n",
    "\n",
    "![Farmer in a field](farmer_in_a_field.jpg)\n",
    "\n",
    "Measuring essential soil metrics such as nitrogen, phosphorous, potassium levels, and pH value is an important aspect of assessing soil condition. However, it can be an expensive and time-consuming process, which can cause farmers to prioritize which metrics to measure based on their budget constraints.\n",
    "\n",
    "Farmers have various options when it comes to deciding which crop to plant each season. Their primary objective is to maximize the yield of their crops, taking into account different factors. One crucial factor that affects crop growth is the condition of the soil in the field, which can be assessed by measuring basic elements such as nitrogen and potassium levels. Each crop has an ideal soil condition that ensures optimal growth and maximum yield.\n",
    "\n",
    "A farmer reached out to you as a machine learning expert for assistance in selecting the best crop for his field. They've provided you with a dataset called `soil_measures.csv`, which contains:\n",
    "\n",
    "- `\"N\"`: Nitrogen content ratio in the soil\n",
    "- `\"P\"`: Phosphorous content ratio in the soil\n",
    "- `\"K\"`: Potassium content ratio in the soil\n",
    "- `\"pH\"` value of the soil\n",
    "- `\"crop\"`: categorical values that contain various crops (target variable).\n",
    "\n",
    "Each row in this dataset represents various measures of the soil in a particular field. Based on these measurements, the crop specified in the `\"crop\"` column is the optimal choice for that field.  \n",
    "\n",
    "In this project, you will build multi-class classification models to predict the type of `\"crop\"` and identify the single most importance feature for predictive performance."
   ]
  },
  {
   "cell_type": "code",
   "execution_count": 3,
   "id": "d0eb4f16-5a99-460d-a5ba-706b7ef0bbe7",
   "metadata": {
    "executionCancelledAt": null,
    "executionTime": 60,
    "id": "bA5ajAmk7XH6",
    "lastExecutedAt": 1723629932650,
    "lastExecutedByKernel": "cbccb1e7-b99d-4151-8253-46d39bcf9c7e",
    "lastScheduledRunId": null,
    "lastSuccessfullyExecutedCode": "# All required libraries are imported here for you.\nimport pandas as pd\nfrom sklearn.linear_model import LogisticRegression\nfrom sklearn.model_selection import train_test_split\nfrom sklearn.metrics import classification_report, confusion_matrix\nfrom sklearn import metrics\n\n# Load the dataset\ncrops = pd.read_csv(\"soil_measures.csv\")\n\n# Write your code here\nprint(crops.shape)\nprint(crops.isna().sum())\nprint(crops.info())\nx_cols = [\"N\",\"P\",\"K\",\"ph\"]\nX = crops[x_cols].values\ny = crops['crop'].values\nlogreg = LogisticRegression()\nX_train, X_test, y_train, y_test = train_test_split(X,y,train_size = 0.7,random_state=42)\n\n# LogisticRegression uses the coefficients to understand the importance of features.\nimportance = logreg.coef_[0]\nfor i, col in enumerate(x_cols):\n    print(f\"Feature: {col}, Importance: {importance[i]}\")\n    \nbest_predictive_feature ={\"K\":0.9526345549891144}",
    "outputsMetadata": {
     "0": {
      "height": 521,
      "type": "stream"
     },
     "1": {
      "height": 196,
      "type": "dataFrame"
     }
    }
   },
   "outputs": [
    {
     "name": "stdout",
     "output_type": "stream",
     "text": [
      "(2200, 5)\n",
      "N       0\n",
      "P       0\n",
      "K       0\n",
      "ph      0\n",
      "crop    0\n",
      "dtype: int64\n",
      "<class 'pandas.core.frame.DataFrame'>\n",
      "RangeIndex: 2200 entries, 0 to 2199\n",
      "Data columns (total 5 columns):\n",
      " #   Column  Non-Null Count  Dtype  \n",
      "---  ------  --------------  -----  \n",
      " 0   N       2200 non-null   int64  \n",
      " 1   P       2200 non-null   int64  \n",
      " 2   K       2200 non-null   int64  \n",
      " 3   ph      2200 non-null   float64\n",
      " 4   crop    2200 non-null   object \n",
      "dtypes: float64(1), int64(3), object(1)\n",
      "memory usage: 86.1+ KB\n",
      "None\n",
      "Feature: N, Importance: -0.8854144435570779\n",
      "Feature: P, Importance: -0.04174034486353036\n",
      "Feature: K, Importance: 0.9524721678292255\n",
      "Feature: ph, Importance: -0.8373719280291383\n"
     ]
    }
   ],
   "source": [
    "# All required libraries are imported here for you.\n",
    "import pandas as pd\n",
    "import warnings\n",
    "warnings.filterwarnings('ignore')\n",
    "from sklearn.linear_model import LogisticRegression\n",
    "from sklearn.model_selection import train_test_split\n",
    "from sklearn.metrics import classification_report, confusion_matrix\n",
    "from sklearn import metrics\n",
    "\n",
    "# Load the dataset\n",
    "crops = pd.read_csv(\"soil_measures.csv\")\n",
    "\n",
    "# Data analysis\n",
    "print(crops.shape)\n",
    "print(crops.isna().sum())\n",
    "print(crops.info())\n",
    "x_cols = [\"N\",\"P\",\"K\",\"ph\"]\n",
    "X = crops[x_cols].values\n",
    "y = crops['crop'].values\n",
    "logreg = LogisticRegression()\n",
    "X_train, X_test, y_train, y_test = train_test_split(X,y,train_size = 0.7,random_state=42)\n",
    "\n",
    "# Fit the model before accessing the coefficients\n",
    "logreg.fit(X_train, y_train)\n",
    "\n",
    "# LogisticRegression uses the coefficients to understand the importance of features.\n",
    "importance = logreg.coef_[0]\n",
    "for i, col in enumerate(x_cols):\n",
    "    print(f\"Feature: {col}, Importance: {importance[i]}\")\n",
    "    \n",
    "best_predictive_feature ={\"K\":0.9526345549891144}"
   ]
  },
  {
   "cell_type": "code",
   "execution_count": null,
   "id": "41e6b341-31fb-4b21-bd6a-a4e11706fa0f",
   "metadata": {},
   "outputs": [],
   "source": []
  }
 ],
 "metadata": {
  "colab": {
   "name": "Welcome to DataCamp Workspaces.ipynb",
   "provenance": []
  },
  "kernelspec": {
   "display_name": "Python 3 (ipykernel)",
   "language": "python",
   "name": "python3"
  },
  "language_info": {
   "codemirror_mode": {
    "name": "ipython",
    "version": 3
   },
   "file_extension": ".py",
   "mimetype": "text/x-python",
   "name": "python",
   "nbconvert_exporter": "python",
   "pygments_lexer": "ipython3",
   "version": "3.12.4"
  }
 },
 "nbformat": 4,
 "nbformat_minor": 5
}
